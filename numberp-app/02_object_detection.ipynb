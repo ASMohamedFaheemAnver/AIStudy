{
 "cells": [
  {
   "cell_type": "code",
   "execution_count": 1,
   "id": "34aa0ecb-402f-424d-8081-0291e4a1785b",
   "metadata": {},
   "outputs": [],
   "source": [
    "import numpy as np\n",
    "import pandas as pd\n",
    "import matplotlib.pyplot as plt\n",
    "import os\n",
    "import cv2"
   ]
  },
  {
   "cell_type": "code",
   "execution_count": 2,
   "id": "19b79788-cfe4-457b-b1fd-e543b155842f",
   "metadata": {},
   "outputs": [
    {
     "data": {
      "text/html": [
       "<div>\n",
       "<style scoped>\n",
       "    .dataframe tbody tr th:only-of-type {\n",
       "        vertical-align: middle;\n",
       "    }\n",
       "\n",
       "    .dataframe tbody tr th {\n",
       "        vertical-align: top;\n",
       "    }\n",
       "\n",
       "    .dataframe thead th {\n",
       "        text-align: right;\n",
       "    }\n",
       "</style>\n",
       "<table border=\"1\" class=\"dataframe\">\n",
       "  <thead>\n",
       "    <tr style=\"text-align: right;\">\n",
       "      <th></th>\n",
       "      <th>filepath</th>\n",
       "      <th>xmin</th>\n",
       "      <th>xmax</th>\n",
       "      <th>ymin</th>\n",
       "      <th>ymax</th>\n",
       "    </tr>\n",
       "  </thead>\n",
       "  <tbody>\n",
       "    <tr>\n",
       "      <th>0</th>\n",
       "      <td>./imgs/N68.xml</td>\n",
       "      <td>319</td>\n",
       "      <td>479</td>\n",
       "      <td>262</td>\n",
       "      <td>295</td>\n",
       "    </tr>\n",
       "    <tr>\n",
       "      <th>1</th>\n",
       "      <td>./imgs/N49.xml</td>\n",
       "      <td>196</td>\n",
       "      <td>352</td>\n",
       "      <td>135</td>\n",
       "      <td>173</td>\n",
       "    </tr>\n",
       "    <tr>\n",
       "      <th>2</th>\n",
       "      <td>./imgs/N225.xml</td>\n",
       "      <td>775</td>\n",
       "      <td>1142</td>\n",
       "      <td>965</td>\n",
       "      <td>1101</td>\n",
       "    </tr>\n",
       "    <tr>\n",
       "      <th>3</th>\n",
       "      <td>./imgs/N239.xml</td>\n",
       "      <td>106</td>\n",
       "      <td>263</td>\n",
       "      <td>238</td>\n",
       "      <td>276</td>\n",
       "    </tr>\n",
       "    <tr>\n",
       "      <th>4</th>\n",
       "      <td>./imgs/N191.xml</td>\n",
       "      <td>317</td>\n",
       "      <td>568</td>\n",
       "      <td>319</td>\n",
       "      <td>397</td>\n",
       "    </tr>\n",
       "  </tbody>\n",
       "</table>\n",
       "</div>"
      ],
      "text/plain": [
       "          filepath  xmin  xmax  ymin  ymax\n",
       "0   ./imgs/N68.xml   319   479   262   295\n",
       "1   ./imgs/N49.xml   196   352   135   173\n",
       "2  ./imgs/N225.xml   775  1142   965  1101\n",
       "3  ./imgs/N239.xml   106   263   238   276\n",
       "4  ./imgs/N191.xml   317   568   319   397"
      ]
     },
     "execution_count": 2,
     "metadata": {},
     "output_type": "execute_result"
    }
   ],
   "source": [
    "df = pd.read_csv('labels.csv')\n",
    "df.head()"
   ]
  },
  {
   "cell_type": "code",
   "execution_count": 3,
   "id": "1150a03e-c7c5-42e3-8c28-da7f46d36acb",
   "metadata": {},
   "outputs": [],
   "source": [
    "import xml.etree.ElementTree as xet"
   ]
  },
  {
   "cell_type": "code",
   "execution_count": 4,
   "id": "f168c041-73ca-4d4a-9339-d7c9755646f2",
   "metadata": {},
   "outputs": [],
   "source": [
    "def get_file_image_path(filename):\n",
    "    image_name = xet.parse(filename).getroot().find('filename').text\n",
    "    image_path = os.path.join('./imgs', image_name)\n",
    "    return image_path"
   ]
  },
  {
   "cell_type": "code",
   "execution_count": 5,
   "id": "2473fc11-5a51-48bd-8127-517197bea089",
   "metadata": {},
   "outputs": [],
   "source": [
    "# for filename in df['filepath']:\n",
    "#     imagepath = get_file_image_path(filename)\n",
    "#     print(imagepath)\n",
    "image_paths = df['filepath'].apply(get_file_image_path)"
   ]
  },
  {
   "cell_type": "markdown",
   "id": "88b760f0-7cb2-4a95-97e5-51403cb9485a",
   "metadata": {},
   "source": [
    "# Verify image and ouput"
   ]
  },
  {
   "cell_type": "code",
   "execution_count": 6,
   "id": "a47228c0-c0a2-4c65-addf-0a0a90aab9e3",
   "metadata": {},
   "outputs": [],
   "source": [
    "# img = cv2.imread(image_paths[0])\n",
    "# cv2.rectangle(img, (319, 262), (479, 295), (0, 255, 0), 3)\n",
    "# cv2.imshow('Image', img)\n",
    "# cv2.waitKey(0)\n",
    "# cv2.destroyAllWindows()"
   ]
  },
  {
   "cell_type": "markdown",
   "id": "bebc89c4-0711-4717-bf6b-41c37e295d1a",
   "metadata": {},
   "source": [
    "# Data prepreocessing"
   ]
  },
  {
   "cell_type": "code",
   "execution_count": 8,
   "id": "5797eee1-0f15-48f8-be67-5afed46ca295",
   "metadata": {},
   "outputs": [],
   "source": [
    "from sklearn.model_selection import train_test_split\n",
    "from tensorflow.keras.preprocessing.image import load_img, img_to_array"
   ]
  },
  {
   "cell_type": "code",
   "execution_count": 14,
   "id": "daa614aa-44f2-404c-9503-24555ec18493",
   "metadata": {},
   "outputs": [],
   "source": [
    "labels = df.iloc[:,1:].values"
   ]
  },
  {
   "cell_type": "code",
   "execution_count": 28,
   "id": "31c6e84c-b79c-4a57-b2fa-6364dce36202",
   "metadata": {},
   "outputs": [],
   "source": [
    "data = []\n",
    "output = []\n",
    "for ind in range(len(image_paths)):\n",
    "    image = image_paths[ind]\n",
    "    img_arr = cv2.imread(image)\n",
    "    h,w,d = img_arr.shape\n",
    "    # Preprocessing\n",
    "    loaded_image = load_img(image, target_size=(224, 224))\n",
    "    loaded_image_arr = img_to_array(loaded_image)\n",
    "    norm_loaded_image_arr = loaded_image_arr/255.0 # Normalize\n",
    "    # Normalization to labels\n",
    "    xmin, xmax, ymin, ymax = labels[ind]\n",
    "    nxmin, nxmax = xmin/w, xmax/w\n",
    "    nymin, nymax = ymax/h, ymax/h\n",
    "    label_norm = (nxmin, nxmax, nymin, nymax)\n",
    "    # Append values\n",
    "    data.append(norm_loaded_image_arr)\n",
    "    output.append(label_norm)"
   ]
  },
  {
   "cell_type": "code",
   "execution_count": null,
   "id": "f31c3331-f78b-462e-8b04-7a22ec3e705f",
   "metadata": {},
   "outputs": [],
   "source": []
  }
 ],
 "metadata": {
  "kernelspec": {
   "display_name": "Python 3 (ipykernel)",
   "language": "python",
   "name": "python3"
  },
  "language_info": {
   "codemirror_mode": {
    "name": "ipython",
    "version": 3
   },
   "file_extension": ".py",
   "mimetype": "text/x-python",
   "name": "python",
   "nbconvert_exporter": "python",
   "pygments_lexer": "ipython3",
   "version": "3.11.7"
  }
 },
 "nbformat": 4,
 "nbformat_minor": 5
}
